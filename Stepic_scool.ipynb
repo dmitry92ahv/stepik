{
 "cells": [
  {
   "cell_type": "markdown",
   "metadata": {},
   "source": [
    "Стандартные операторы сложения, вычитания, умнодения, деления:"
   ]
  },
  {
   "cell_type": "code",
   "execution_count": 5,
   "metadata": {},
   "outputs": [
    {
     "data": {
      "text/plain": [
       "4"
      ]
     },
     "execution_count": 5,
     "metadata": {},
     "output_type": "execute_result"
    }
   ],
   "source": [
    "2+2"
   ]
  },
  {
   "cell_type": "code",
   "execution_count": 8,
   "metadata": {},
   "outputs": [
    {
     "data": {
      "text/plain": [
       "3"
      ]
     },
     "execution_count": 8,
     "metadata": {},
     "output_type": "execute_result"
    }
   ],
   "source": [
    "7-4"
   ]
  },
  {
   "cell_type": "code",
   "execution_count": 9,
   "metadata": {},
   "outputs": [
    {
     "data": {
      "text/plain": [
       "180"
      ]
     },
     "execution_count": 9,
     "metadata": {},
     "output_type": "execute_result"
    }
   ],
   "source": [
    "6*30"
   ]
  },
  {
   "cell_type": "code",
   "execution_count": 10,
   "metadata": {},
   "outputs": [
    {
     "data": {
      "text/plain": [
       "5.666666666666667"
      ]
     },
     "execution_count": 10,
     "metadata": {},
     "output_type": "execute_result"
    }
   ],
   "source": [
    "17/3"
   ]
  },
  {
   "cell_type": "markdown",
   "metadata": {},
   "source": [
    "Остаток от деления"
   ]
  },
  {
   "cell_type": "code",
   "execution_count": 11,
   "metadata": {},
   "outputs": [
    {
     "data": {
      "text/plain": [
       "2"
      ]
     },
     "execution_count": 11,
     "metadata": {},
     "output_type": "execute_result"
    }
   ],
   "source": [
    "5%3"
   ]
  },
  {
   "cell_type": "markdown",
   "metadata": {},
   "source": [
    "Целая часть от деления"
   ]
  },
  {
   "cell_type": "code",
   "execution_count": 12,
   "metadata": {},
   "outputs": [
    {
     "data": {
      "text/plain": [
       "2"
      ]
     },
     "execution_count": 12,
     "metadata": {},
     "output_type": "execute_result"
    }
   ],
   "source": [
    "7//3"
   ]
  },
  {
   "cell_type": "markdown",
   "metadata": {},
   "source": [
    "Возведение в степень"
   ]
  },
  {
   "cell_type": "code",
   "execution_count": 7,
   "metadata": {},
   "outputs": [
    {
     "data": {
      "text/plain": [
       "18064773765607550801425251468864907833685590016"
      ]
     },
     "execution_count": 7,
     "metadata": {},
     "output_type": "execute_result"
    }
   ],
   "source": [
    "2014**14"
   ]
  },
  {
   "cell_type": "markdown",
   "metadata": {},
   "source": [
    "Для извлечения корня используется возведение в дробную степень"
   ]
  },
  {
   "cell_type": "code",
   "execution_count": 13,
   "metadata": {},
   "outputs": [
    {
     "data": {
      "text/plain": [
       "3.0"
      ]
     },
     "execution_count": 13,
     "metadata": {},
     "output_type": "execute_result"
    }
   ],
   "source": [
    "9**0.5"
   ]
  },
  {
   "cell_type": "markdown",
   "metadata": {},
   "source": [
    "Запись \"е\" в чиле осзначает что все что написано до \"е\" нужно умножить на 10 в степени числа написанного после \"е\""
   ]
  },
  {
   "cell_type": "code",
   "execution_count": 14,
   "metadata": {},
   "outputs": [
    {
     "data": {
      "text/plain": [
       "1234.5"
      ]
     },
     "execution_count": 14,
     "metadata": {},
     "output_type": "execute_result"
    }
   ],
   "source": [
    "1.2345e3 "
   ]
  },
  {
   "cell_type": "code",
   "execution_count": 15,
   "metadata": {},
   "outputs": [
    {
     "data": {
      "text/plain": [
       "0.0012345"
      ]
     },
     "execution_count": 15,
     "metadata": {},
     "output_type": "execute_result"
    }
   ],
   "source": [
    "1.2345e-3"
   ]
  },
  {
   "cell_type": "markdown",
   "metadata": {},
   "source": [
    "Преобразование типов\n",
    "int(x) - дробная часть будет отброшена\n",
    "float(x) - преобразование к числу с плавающей точкой\n",
    "bool\n",
    "str\n",
    "\n",
    "выше перечислены неизменяемые типы данных"
   ]
  },
  {
   "cell_type": "code",
   "execution_count": 19,
   "metadata": {},
   "outputs": [
    {
     "data": {
      "text/plain": [
       "2"
      ]
     },
     "execution_count": 19,
     "metadata": {},
     "output_type": "execute_result"
    }
   ],
   "source": [
    "int(2.99)"
   ]
  },
  {
   "cell_type": "code",
   "execution_count": 20,
   "metadata": {},
   "outputs": [
    {
     "data": {
      "text/plain": [
       "-1"
      ]
     },
     "execution_count": 20,
     "metadata": {},
     "output_type": "execute_result"
    }
   ],
   "source": [
    "int(-1.6)"
   ]
  },
  {
   "cell_type": "code",
   "execution_count": 21,
   "metadata": {},
   "outputs": [
    {
     "data": {
      "text/plain": [
       "89"
      ]
     },
     "execution_count": 21,
     "metadata": {},
     "output_type": "execute_result"
    }
   ],
   "source": [
    "9**19-int(float(9**19))"
   ]
  },
  {
   "cell_type": "markdown",
   "metadata": {},
   "source": [
    "type(x) - узнать тип переменной"
   ]
  },
  {
   "cell_type": "code",
   "execution_count": 22,
   "metadata": {},
   "outputs": [
    {
     "data": {
      "text/plain": [
       "str"
      ]
     },
     "execution_count": 22,
     "metadata": {},
     "output_type": "execute_result"
    }
   ],
   "source": [
    "type('vfgh')"
   ]
  },
  {
   "cell_type": "markdown",
   "metadata": {},
   "source": [
    "Операторы приращения\n",
    "а += 3  - а увеличить на 3\n",
    "+=\n",
    "-=\n",
    "*= \n",
    "/=\n",
    "//=\n",
    "%=\n",
    "**=\n",
    "\n",
    "Динамическая типизация"
   ]
  },
  {
   "cell_type": "code",
   "execution_count": 25,
   "metadata": {},
   "outputs": [
    {
     "name": "stdout",
     "output_type": "stream",
     "text": [
      "Вводи уже45\n",
      "2025\n"
     ]
    }
   ],
   "source": [
    "a = int(input('Вводи уже'))\n",
    "print(a**2)"
   ]
  },
  {
   "cell_type": "markdown",
   "metadata": {},
   "source": [
    "Коля каждый день ложится спать ровно в полночь и недавно узнал, что оптимальное время для его сна составляет XX минут. Коля хочет поставить себе будильник так, чтобы он прозвенел ровно через XX минут после полуночи, однако для этого необходимо указать время сигнала в формате часы, минуты. Помогите Коле определить, на какое время завести будильник."
   ]
  },
  {
   "cell_type": "code",
   "execution_count": 27,
   "metadata": {
    "scrolled": true
   },
   "outputs": [
    {
     "name": "stdout",
     "output_type": "stream",
     "text": [
      "375\n",
      "6\n",
      "15\n"
     ]
    }
   ],
   "source": [
    "X=int(input())\n",
    "print(X//60)\n",
    "print(X%60)"
   ]
  },
  {
   "cell_type": "markdown",
   "metadata": {},
   "source": [
    "Катя узнала, что ей для сна надо XX минут. В отличие от Коли, Катя ложится спать после полуночи в HH часов и MM минут. Помогите Кате определить, на какое время ей поставить будильник, чтобы он прозвенел ровно через XX минут после того, как она ляжет спать.\n",
    "\n",
    "На стандартный ввод, каждое в своей строке, подаются значения XX, HH и MM. Гарантируется, что Катя должна проснуться в тот же день, что и заснуть. Программа должна выводить время, на которое нужно поставить будильник: в первой строке часы, во второй — минуты."
   ]
  },
  {
   "cell_type": "code",
   "execution_count": 29,
   "metadata": {},
   "outputs": [
    {
     "name": "stdout",
     "output_type": "stream",
     "text": [
      "380\n",
      "0\n",
      "40\n",
      "7\n",
      "0\n"
     ]
    }
   ],
   "source": [
    "X = int(input())\n",
    "H = int(input())\n",
    "M = int(input())\n",
    "X = X + H*60 + M\n",
    "print(X//60)\n",
    "print(X%60)"
   ]
  },
  {
   "cell_type": "markdown",
   "metadata": {},
   "source": [
    "False\n",
    "True\n",
    "x or y (x или y)\n",
    "x and y (x и y) более высокий приоритет, чем or\n",
    "not x (не x)\n",
    "\n",
    "Операции сравнения\n",
    "<\n",
    "<=\n",
    ">\n",
    ">=\n",
    "==\n",
    "!="
   ]
  },
  {
   "cell_type": "markdown",
   "metadata": {},
   "source": [
    "Является ли число двухзначным?"
   ]
  },
  {
   "cell_type": "code",
   "execution_count": 32,
   "metadata": {},
   "outputs": [
    {
     "name": "stdout",
     "output_type": "stream",
     "text": [
      "556\n",
      "False\n"
     ]
    }
   ],
   "source": [
    "a = int(input())\n",
    "print(10 <= a <100)"
   ]
  },
  {
   "cell_type": "code",
   "execution_count": 33,
   "metadata": {},
   "outputs": [
    {
     "data": {
      "text/plain": [
       "True"
      ]
     },
     "execution_count": 33,
     "metadata": {},
     "output_type": "execute_result"
    }
   ],
   "source": [
    "x1, x2, x3 = False, True, False\n",
    "not x1 or x2 and x3"
   ]
  },
  {
   "cell_type": "markdown",
   "metadata": {},
   "source": [
    "Расставьте скобки в выражении \n",
    "\n",
    "a and b or not a and not b\n",
    "\n",
    "в соответствии с порядком вычисления выражения (приоритетом операций). Всего потребуется 5 пар скобок (внешние скобки входят в их число).\n",
    "\n",
    "((a and b) or ((not a) and (not b)))"
   ]
  },
  {
   "cell_type": "code",
   "execution_count": 35,
   "metadata": {},
   "outputs": [
    {
     "data": {
      "text/plain": [
       "True"
      ]
     },
     "execution_count": 35,
     "metadata": {},
     "output_type": "execute_result"
    }
   ],
   "source": [
    "x = 5\n",
    "y = 10\n",
    "y > x * x or y >= 2 * x and x < y"
   ]
  },
  {
   "cell_type": "code",
   "execution_count": 36,
   "metadata": {},
   "outputs": [
    {
     "data": {
      "text/plain": [
       "False"
      ]
     },
     "execution_count": 36,
     "metadata": {},
     "output_type": "execute_result"
    }
   ],
   "source": [
    "a = True\n",
    "b = False\n",
    "a and b or not a and not b"
   ]
  },
  {
   "cell_type": "markdown",
   "metadata": {},
   "source": [
    "# Условия\n",
    "Проверка на четность"
   ]
  },
  {
   "cell_type": "code",
   "execution_count": 39,
   "metadata": {},
   "outputs": [
    {
     "name": "stdout",
     "output_type": "stream",
     "text": [
      "33\n",
      "Нечетное\n"
     ]
    }
   ],
   "source": [
    "x = int(input())\n",
    "if x % 2 == 0:\n",
    "    print('Четное')\n",
    "else:\n",
    "    print('Нечетное')"
   ]
  },
  {
   "cell_type": "markdown",
   "metadata": {},
   "source": [
    "if условие1:\n",
    "    -блок1\n",
    "elif условие2:\n",
    "    -блок2\n",
    "else:\n",
    "    -блок3\n",
    "    \n",
    "как только выполнилось одно из условий остальные пропускаются"
   ]
  },
  {
   "cell_type": "markdown",
   "metadata": {},
   "source": [
    "Из передачи “Здоровье” Аня узнала, что рекомендуется спать хотя бы A часов в сутки, но пересыпать тоже вредно и не стоит спать более B часов. Сейчас Аня спит H часов в сутки. Если режим сна Ани удовлетворяет рекомендациям передачи “Здоровье”, выведите “Это нормально”. Если Аня спит менее A часов, выведите “Недосып”, если же более BBчасов, то выведите “Пересып”.\n",
    "\n",
    "Получаемое число A всегда меньше либо равно B.\n",
    "\n",
    "На вход программе в три строки подаются переменные в следующем порядке: A, B, H.\n",
    "\n",
    "Обратите внимание на регистр символов: вывод должен в точности соответствовать описанному в задании, т. е. если программа должна вывести \"Пересып\", выводы программы \"пересып\", \"ПЕРЕСЫП\", \"ПеРеСыП\" и другие не будут считаться верными.\n",
    "\n",
    "Это первое не самое тривиальное задание на условное выражение. В случаях, когда разбить исполнение программы на несколько направлений, стоит внимательно обдумать все условия, которые нужно использовать. Особое внимание стоит уделить строгости используемых условных операторов: различайте \\lt< и \\le≤; \\gt> и \\ge≥. Для того, чтобы понимать, какой из них стоит использовать, внимательно прочитайте условие задания."
   ]
  },
  {
   "cell_type": "code",
   "execution_count": 45,
   "metadata": {},
   "outputs": [
    {
     "name": "stdout",
     "output_type": "stream",
     "text": [
      "5\n",
      "10\n",
      "4\n",
      "Недосып\n"
     ]
    }
   ],
   "source": [
    "A = int(input())\n",
    "B = int(input())\n",
    "H = int(input())\n",
    "if A <= H <= B:\n",
    "    print('Это нормально')\n",
    "elif(H > B):\n",
    "    print('Пересып')\n",
    "else:\n",
    "    print('Недосып')"
   ]
  },
  {
   "cell_type": "markdown",
   "metadata": {},
   "source": [
    "Требуется определить, является ли данный год високосным.\n",
    "\n",
    "Напомним, что високосными годами считаются те годы, порядковый номер которых либо кратен 4, но при этом не кратен 100, либо кратен 400 (например, 2000-й год являлся високосным, а 2100-й будет невисокосным годом). \n",
    "\n",
    "Программа должна корректно работать на числах 1900≤n≤3000.\n",
    "\n",
    "Выведите \"Високосный\" в случае, если считанный год является високосным и \"Обычный\" в обратном случае (не забывайте проверять регистр выводимых программой символов)."
   ]
  },
  {
   "cell_type": "code",
   "execution_count": 47,
   "metadata": {},
   "outputs": [
    {
     "name": "stdout",
     "output_type": "stream",
     "text": [
      "2000\n",
      "Високосный\n"
     ]
    }
   ],
   "source": [
    "year = int(input())\n",
    "if year % 4 == 0 and year % 100 != 0 or year % 400 == 0 :\n",
    "    print('Високосный')\n",
    "else:\n",
    "    print('Обычный')"
   ]
  },
  {
   "cell_type": "markdown",
   "metadata": {},
   "source": [
    "#Операции со строками\n",
    "'строка внутри одинарных ковычек'\n",
    "\"строка внутри двойных кавычках работает также как и в одинарных\"\n",
    "'''строка в трех одинарных кавычках которую \n",
    "можно записать в несколько строк'''\n",
    "\"\"\"строка в трех двойных кавычках которую \n",
    "можно записать в несколько строк работает так же как и в трех одинарных\"\"\"\n",
    "\n",
    "Конкатенация\n",
    "'abc' + 'def' = 'abcdef'\n",
    "'abc' * 3 = 'abcabcabc'\n",
    "len('abcdef') = 6\n",
    "\n",
    "сравнение строк\n",
    "'abc' == \"abc\"\n",
    "'abc' < 'ac'\n",
    "'abc' > 'ab'\n",
    "\n",
    "Спецсимволы\n",
    "\n",
    "'\\n' - перевод строки\n",
    "\n",
    "\n",
    "\n",
    "#комментарий в программе\n",
    "\n",
    "\"\"\"\n",
    "тоже может быть комментарием\n",
    "\"\"\""
   ]
  },
  {
   "cell_type": "markdown",
   "metadata": {},
   "source": [
    "В то далёкое время, когда Паша ходил в школу, ему очень не нравилась формула Герона для вычисления площади треугольника, так как казалась слишком сложной. В один прекрасный момент Павел решил избавить всех школьников от страданий и написать и распространить по школам программу, вычисляющую площадь треугольника по трём сторонам.\n",
    "\n",
    "Одна проблема: так как эта формула не нравилась Павлу, он её не запомнил. Помогите ему завершить доброе дело и напишите программу, вычисляющую площадь треугольника по переданным длинам трёх его сторон по формуле Герона:\n",
    "\n",
    "S=\\sqrt{p(p−a)(p−b)(p−c)}\n",
    "S= \n",
    "p(p−a)(p−b)(p−c)\n",
    "​\t\n",
    " \n",
    "где p=\\dfrac{a+b+c}2p= \n",
    "2\n",
    "a+b+c\n",
    "​\t\n",
    "  – полупериметр треугольника. На вход программе подаются целые числа, выводом программы должно являться вещественное число, соответствующее площади треугольника."
   ]
  },
  {
   "cell_type": "code",
   "execution_count": 51,
   "metadata": {},
   "outputs": [
    {
     "name": "stdout",
     "output_type": "stream",
     "text": [
      "3\n",
      "4\n",
      "5\n",
      "6.0\n"
     ]
    }
   ],
   "source": [
    "a, b, c = float(input()), float(input()), float(input())\n",
    "p = (a + b + c) / 2\n",
    "print ((p * (p - a) * (p - b) * (p - c))**0.5)"
   ]
  },
  {
   "cell_type": "markdown",
   "metadata": {},
   "source": [
    "Напишите программу, принимающую на вход целое число, которая выводит True, если переданное значение попадает в интервал (-15, 12] \\cup (14, 17) \\cup [19, +\\infty)(−15,12]∪(14,17)∪[19,+∞) и False в противном случае (регистр символов имеет значение).\n",
    "\n",
    "Обратите внимание на разные скобки, используемые для обозначения интервалов. В задании используются полуоткрытые и открытые интервалы. Подробнее про это вы можете прочитать, например, на википедии ( полуинтервал, промежуток)."
   ]
  },
  {
   "cell_type": "code",
   "execution_count": 67,
   "metadata": {},
   "outputs": [
    {
     "name": "stdout",
     "output_type": "stream",
     "text": [
      "500\n",
      "True\n"
     ]
    }
   ],
   "source": [
    "a = int(input())\n",
    "if -15 < a <= 12 or 14 < a < 17 or 19 <= a:\n",
    "    print ('True')\n",
    "else:\n",
    "    print ('False')"
   ]
  },
  {
   "cell_type": "markdown",
   "metadata": {},
   "source": [
    "Напишите простой калькулятор, который считывает с пользовательского ввода три строки: первое число, второе число и операцию, после чего применяет операцию к введённым числам (\"первое число\" \"операция\" \"второе число\") и выводит результат на экран.\n",
    "\n",
    "Поддерживаемые операции: +, -, /, *, mod, pow, div, где \n",
    "mod — это взятие остатка от деления, \n",
    "pow — возведение в степень, \n",
    "div — целочисленное деление.\n",
    "\n",
    "Если выполняется деление и второе число равно 0, необходимо выводить строку \"Деление на 0!\".\n",
    "\n",
    "Обратите внимание, что на вход программе приходят вещественные числа."
   ]
  },
  {
   "cell_type": "code",
   "execution_count": 68,
   "metadata": {},
   "outputs": [
    {
     "name": "stdout",
     "output_type": "stream",
     "text": [
      "5\n",
      "0\n",
      "mod\n",
      "Деление на 0!\n"
     ]
    }
   ],
   "source": [
    "a, b, oper = float(input()), float(input()), input()\n",
    "if oper == '+':\n",
    "    print (a + b)\n",
    "elif oper == '-':\n",
    "    print (a - b)\n",
    "elif oper == '/':\n",
    "    if (b == 0):\n",
    "        print('Деление на 0!')\n",
    "    else:\n",
    "        print (a / b)\n",
    "elif oper == '*':\n",
    "    print (a * b)\n",
    "elif oper == 'mod':\n",
    "    if (b == 0):\n",
    "        print('Деление на 0!')\n",
    "    else:\n",
    "        print (a % b)\n",
    "elif oper == 'pow':\n",
    "    print (a ** b)\n",
    "elif oper == 'div':\n",
    "    if (b == 0):\n",
    "        print('Деление на 0!')\n",
    "    else:\n",
    "        print (a // b)"
   ]
  },
  {
   "cell_type": "markdown",
   "metadata": {},
   "source": [
    "Жители страны Малевии часто экспериментируют с планировкой комнат. Комнаты бывают треугольные, прямоугольные и круглые. Чтобы быстро вычислять жилплощадь, требуется написать программу, на вход которой подаётся тип фигуры комнаты и соответствующие параметры, которая бы выводила площадь получившейся комнаты.\n",
    "Для числа π в стране Малевии используют значение 3.14.\n",
    "\n",
    "Формат ввода, который используют Малевийцы:\n",
    "\n",
    "треугольник\n",
    "a\n",
    "b\n",
    "c\n",
    "где a, b и c — длины сторон треугольника\n",
    "\n",
    "прямоугольник\n",
    "a\n",
    "b\n",
    "где a и b — длины сторон прямоугольника\n",
    "\n",
    "круг\n",
    "r\n",
    "где r — радиус окружности\n"
   ]
  },
  {
   "cell_type": "code",
   "execution_count": 73,
   "metadata": {},
   "outputs": [
    {
     "name": "stdout",
     "output_type": "stream",
     "text": [
      "треугольник\n",
      "3\n",
      "4\n",
      "5\n",
      "6.0\n"
     ]
    }
   ],
   "source": [
    "figure = input()\n",
    "if figure == 'треугольник':\n",
    "    a, b, c = float(input()), float(input()), float(input())\n",
    "    p = (a + b + c) / 2\n",
    "    print ((p * (p - a) * (p - b) * (p - c))**0.5)    \n",
    "elif figure == 'прямоугольник':\n",
    "    a, b = float(input()), float(input())\n",
    "    print (a * b)\n",
    "else:\n",
    "    r = float(input())\n",
    "    print (3.14 * r *r)    "
   ]
  },
  {
   "cell_type": "markdown",
   "metadata": {},
   "source": [
    "Напишите программу, которая получает на вход три целых числа, по одному числу в строке, и выводит на консоль в три строки сначала максимальное, потом минимальное, после чего оставшееся число.\n",
    "\n",
    "На ввод могут подаваться и повторяющиеся числа."
   ]
  },
  {
   "cell_type": "code",
   "execution_count": 9,
   "metadata": {},
   "outputs": [
    {
     "name": "stdout",
     "output_type": "stream",
     "text": [
      "23\n",
      "21\n",
      "21\n",
      "23\n",
      "21\n",
      "21\n"
     ]
    }
   ],
   "source": [
    "a, b, c = int(input()), int(input()), int(input())\n",
    "max = 0\n",
    "min = 0\n",
    "between = 0\n",
    "\n",
    "if a >= b and a >= c:\n",
    "    max = a\n",
    "if b >= a and b >= c:\n",
    "    max = b\n",
    "if c >= a and c >= b:\n",
    "    max = c\n",
    "\n",
    "if a <= b and a <= c:\n",
    "    min = a\n",
    "if b <= a and b <= c:\n",
    "    min = b\n",
    "if c <= a and c <= b:\n",
    "    min = c\n",
    "    \n",
    "if a < max and a > min:\n",
    "    between = a    \n",
    "if b < max and b > min:\n",
    "    between = b    \n",
    "if c < max and c > min:\n",
    "    between = c\n",
    "    \n",
    "if between != a and between != b and between != c:\n",
    "    if a == b:\n",
    "        between = a\n",
    "    else:\n",
    "        between = c\n",
    "\n",
    "print(max)\n",
    "print(min)\n",
    "print(between)"
   ]
  },
  {
   "cell_type": "markdown",
   "metadata": {},
   "source": [
    "В институте биоинформатики по офису передвигается робот. Недавно студенты из группы программистов написали для него программу, по которой робот, когда заходит в комнату, считает количество программистов в ней и произносит его вслух: \"n программистов\".\n",
    "\n",
    "Для того, чтобы это звучало правильно, для каждого nn нужно использовать верное окончание слова.\n",
    "\n",
    "Напишите программу, считывающую с пользовательского ввода целое число nn (неотрицательное), выводящее это число в консоль вместе с правильным образом изменённым словом \"программист\", для того, чтобы робот мог нормально общаться с людьми, например: 1 программист, 2 программиста, 5 программистов.\n",
    "\n",
    "В комнате может быть очень много программистов. Проверьте, что ваша программа правильно обработает все случаи, как минимум до 1000 человек.\n",
    "\n",
    "Дополнительный комментарий к условию:\n",
    "Обратите внимание, что задача не так проста, как кажется на первый взгляд. Если ваше решение не проходит какой-то тест, это значит, что вы не рассмотрели какой-то из случаев входных данных (число программистов 0≤n≤1000). Обязательно проверяйте свои решения на дополнительных значениях, а не только на тех, что приведены в условии задания.\n",
    "\n",
    "Так как задание повышенной сложности, вручную код решений проверяться не будет. Если вы столкнулись с ошибкой в первых четырёх тестах, проверьте, что вы используете только русские символы для ответа. В остальных случаях ищите ошибку в логике работы программы."
   ]
  },
  {
   "cell_type": "code",
   "execution_count": 14,
   "metadata": {},
   "outputs": [
    {
     "name": "stdout",
     "output_type": "stream",
     "text": [
      "33\n",
      "33 программиста\n"
     ]
    }
   ],
   "source": [
    "n = int(input())\n",
    "if n%10 == 0 or n%10 == 5 or n%10 == 6 or n%10 == 7 or n%10 == 8 or n%10 == 9 or 9 < n%100 < 20:\n",
    "    print( n, 'программистов')\n",
    "elif n%10 == 1:\n",
    "    print(n, 'программист')\n",
    "elif n%10 == 2 or n%10 == 3 or n%10 == 4:\n",
    "    print(n, 'программиста')"
   ]
  },
  {
   "cell_type": "markdown",
   "metadata": {},
   "source": [
    "Паша очень любит кататься на общественном транспорте, а получая билет, сразу проверяет, счастливый ли ему попался. Билет считается счастливым, если сумма первых трех цифр совпадает с суммой последних трех цифр номера билета.\n",
    "\n",
    "Однако Паша очень плохо считает в уме, поэтому попросил вас написать программу, которая проверит равенство сумм и выведет \"Счастливый\", если суммы совпадают, и \"Обычный\", если суммы различны.\n",
    "\n",
    "На вход программе подаётся строка из шести цифр.\n",
    "\n",
    "Выводить нужно только слово \"Счастливый\" или \"Обычный\", с большой буквы."
   ]
  },
  {
   "cell_type": "code",
   "execution_count": 23,
   "metadata": {},
   "outputs": [
    {
     "name": "stdout",
     "output_type": "stream",
     "text": [
      "123456\n",
      "1 2 3 4 5 6\n",
      "Обычный\n"
     ]
    }
   ],
   "source": [
    "num = int(input())\n",
    "a1 =  num // 100000\n",
    "a2 = (num % 100000) // 10000\n",
    "a3 = (num % 10000) // 1000\n",
    "b1 = (num % 1000) // 100\n",
    "b2 = (num % 100) // 10\n",
    "b3 =  num % 10\n",
    "print(a1, a2, a3, b1, b2, b3)\n",
    "if a1 + a2 + a3 == b1 + b2 + b3:\n",
    "    print(\"Счастливый\")\n",
    "else:\n",
    "    print(\"Обычный\")"
   ]
  },
  {
   "cell_type": "markdown",
   "metadata": {},
   "source": [
    "# WHILE\n",
    "a = 5\n",
    "while a > 0:\n",
    "    print(a, end = ' ')\n",
    "    a -= 1"
   ]
  },
  {
   "cell_type": "code",
   "execution_count": 27,
   "metadata": {},
   "outputs": [
    {
     "name": "stdout",
     "output_type": "stream",
     "text": [
      "9\n"
     ]
    }
   ],
   "source": [
    "i = 0\n",
    "a = 0\n",
    "while i <= 10:\n",
    "    a += 1\n",
    "    i = i + 1\n",
    "    if i > 7:\n",
    "        i = i + 2\n",
    "print(a)"
   ]
  },
  {
   "cell_type": "code",
   "execution_count": 30,
   "metadata": {},
   "outputs": [
    {
     "name": "stdout",
     "output_type": "stream",
     "text": [
      "*\n",
      "**\n",
      "*\n",
      "*\n",
      "**\n",
      "*\n",
      "***\n",
      "*\n",
      "**\n",
      "***\n"
     ]
    }
   ],
   "source": [
    "i = 0\n",
    "while i < 5:\n",
    "    print('*')\n",
    "    if i % 2 == 0:\n",
    "        print('**')\n",
    "    if i > 2:\n",
    "        print('***')\n",
    "    i = i + 1"
   ]
  },
  {
   "cell_type": "markdown",
   "metadata": {},
   "source": [
    "Напишите программу, которая считывает со стандартного ввода целые числа, по одному числу в строке, и после первого введенного нуля выводит сумму полученных на вход чисел."
   ]
  },
  {
   "cell_type": "code",
   "execution_count": 32,
   "metadata": {},
   "outputs": [
    {
     "name": "stdout",
     "output_type": "stream",
     "text": [
      "1\n",
      "2\n",
      "3\n",
      "0\n",
      "6\n"
     ]
    }
   ],
   "source": [
    "n = 10\n",
    "s = 0\n",
    "while n != 0:\n",
    "    n = int(input())\n",
    "    s = s + n\n",
    "print(s)"
   ]
  },
  {
   "cell_type": "markdown",
   "metadata": {},
   "source": [
    "В Институте биоинформатики между информатиками и биологами устраивается соревнование. Победителям соревнования достанется большой и вкусный пирог. В команде биологов aa человек, а в команде информатиков — bb человек.\n",
    "\n",
    "Нужно заранее разрезать пирог таким образом, чтобы можно было раздать кусочки пирога любой команде, выигравшей соревнование, при этом каждому участнику этой команды должно достаться одинаковое число кусочков пирога. И так как не хочется резать пирог на слишком мелкие кусочки, нужно найти минимальное подходящее число.\n",
    "\n",
    "Напишите программу, которая помогает найти это число.\n",
    "Программа должна считывать размеры команд (два положительных целых числа aa и bb, каждое число вводится на отдельной строке) и выводить наименьшее число dd, которое делится на оба этих числа без остатка."
   ]
  },
  {
   "cell_type": "code",
   "execution_count": 45,
   "metadata": {},
   "outputs": [
    {
     "name": "stdout",
     "output_type": "stream",
     "text": [
      "4\n",
      "2\n",
      "2 2 0\n",
      "3 3 1\n",
      "4 0 0\n",
      "4\n"
     ]
    }
   ],
   "source": [
    "a = int(input())\n",
    "b = int(input())\n",
    "n = 1\n",
    "while n % a != 0 or n % b != 0:\n",
    "    n += 1\n",
    "print(n)"
   ]
  },
  {
   "cell_type": "markdown",
   "metadata": {},
   "source": [
    "## способ чтения \n",
    "## a, b = input().split()"
   ]
  },
  {
   "cell_type": "markdown",
   "metadata": {},
   "source": [
    "# break - досрочно завершить цикл\n",
    "# continue - завершает тикущую итерацию и переходит к следующей"
   ]
  },
  {
   "cell_type": "markdown",
   "metadata": {},
   "source": [
    "Напишите программу, которая считывает целые числа с консоли по одному числу в строке.\n",
    "\n",
    "Для каждого введённого числа проверить:\n",
    "если число меньше 10, то пропускаем это число;\n",
    "если число больше 100, то прекращаем считывать числа;\n",
    "в остальных случаях вывести это число обратно на консоль в отдельной строке."
   ]
  },
  {
   "cell_type": "code",
   "execution_count": null,
   "metadata": {},
   "outputs": [
    {
     "name": "stdout",
     "output_type": "stream",
     "text": [
      "17\n",
      "17\n"
     ]
    }
   ],
   "source": [
    "while True:\n",
    "    a = int(input())\n",
    "    if a < 10:\n",
    "        continue\n",
    "    elif a > 100:\n",
    "        break\n",
    "    print(a)"
   ]
  },
  {
   "cell_type": "markdown",
   "metadata": {},
   "source": [
    "# Цикл for\n",
    "for i in 2, 3, 5:\n",
    "    print(i * i)\n",
    "   \n",
    "for i in range(10):\n",
    "    print(i * i)\n",
    "\n",
    "# range(x)\n",
    "возвращает последовательность от 0(включая) до x(не включая)\n",
    "\n",
    "# range(x, y)\n",
    "возвращает последовательность от x(включая) до y(не включая)\n",
    "\n",
    "# range(x, y, z)\n",
    "возвращает последоватьльность от x(включая) до y(не включая) с шагом z\n",
    "\n",
    "### range(start = 0, to, step = 1)"
   ]
  },
  {
   "cell_type": "markdown",
   "metadata": {},
   "source": [
    "Когда Павел учился в школе, он запоминал таблицу умножения прямоугольными блоками. Для тренировок ему бы очень пригодилась программа, которая показывала бы блок таблицы умножения.\n",
    "\n",
    "Напишите программу, на вход которой даются четыре числа aa, bb, cc и dd, каждое в своей строке. Программа должна вывести фрагмент таблицы умножения для всех чисел отрезка [a; b][a;b] на все числа отрезка [c;d][c;d].\n",
    "\n",
    "Числа aa, bb, cc и dd являются натуральными и не превосходят 10, a \\le ba≤b, c \\le dc≤d.\n",
    "\n",
    "Следуйте формату вывода из примера, для разделения элементов внутри строки используйте '\\t' — символ табуляции. Заметьте, что левым столбцом и верхней строкой выводятся сами числа из заданных отрезков — заголовочные столбец и строка таблицы."
   ]
  },
  {
   "cell_type": "code",
   "execution_count": 16,
   "metadata": {},
   "outputs": [
    {
     "name": "stdout",
     "output_type": "stream",
     "text": [
      "5\n",
      "5\n",
      "6\n",
      "6\n",
      "\t6\t\n",
      "5\t30\t\n"
     ]
    }
   ],
   "source": [
    "a, b, c, d = int(input()), int(input()), int(input()), int(input())\n",
    "print('', end = '\\t')\n",
    "for j in range(c, d+1):\n",
    "    print(j, end = '\\t')\n",
    "print()\n",
    "for i in range(a, b+1):\n",
    "    print(i, end = '\\t')\n",
    "    for j in range(c, d+1):\n",
    "        print(j * i, end = '\\t')\n",
    "    print()"
   ]
  },
  {
   "cell_type": "markdown",
   "metadata": {},
   "source": [
    "# способ ввода из одной строки\n",
    "a, b = (int(i) for i in input().split())"
   ]
  },
  {
   "cell_type": "markdown",
   "metadata": {},
   "source": [
    "Напишите программу, которая считывает с клавиатуры два числа aa и bb, считает и выводит на консоль среднее арифметическое всех чисел из отрезка [a; b][a;b], которые делятся на 33.\n",
    "\n",
    "В приведенном ниже примере среднее арифметическое считается для чисел на отрезке [-5; 12][−5;12]. Всего чисел, делящихся на 33, на этом отрезке 66: -3, 0, 3, 6, 9, 12−3,0,3,6,9,12. Их среднее арифметическое равно 4.54.5\n",
    "\n",
    "На вход программе подаются интервалы, внутри которых всегда есть хотя бы одно число, которое делится на 33."
   ]
  },
  {
   "cell_type": "code",
   "execution_count": 17,
   "metadata": {},
   "outputs": [
    {
     "name": "stdout",
     "output_type": "stream",
     "text": [
      "-5\n",
      "12\n",
      "4.5\n"
     ]
    }
   ],
   "source": [
    "a, b = int(input()), int(input())\n",
    "s = 0\n",
    "n = 0\n",
    "for i in range(a, b+1):\n",
    "    if(i % 3 == 0):\n",
    "        n += 1\n",
    "        s = s + i\n",
    "print(s / n)"
   ]
  },
  {
   "cell_type": "code",
   "execution_count": 18,
   "metadata": {},
   "outputs": [
    {
     "name": "stdout",
     "output_type": "stream",
     "text": [
      "a\n",
      "s\n",
      "t\n"
     ]
    }
   ],
   "source": [
    "# обращение к символам строки\n",
    "str = 'asdt'\n",
    "print(str[0])\n",
    "print(str[1])\n",
    "print(str[-1]) # обращение к первому символу с конца"
   ]
  },
  {
   "cell_type": "code",
   "execution_count": 20,
   "metadata": {},
   "outputs": [
    {
     "name": "stdout",
     "output_type": "stream",
     "text": [
      "d m i t r y "
     ]
    }
   ],
   "source": [
    "str = 'dmitry'\n",
    "for c in str:\n",
    "    print(c, end = ' ')"
   ]
  },
  {
   "cell_type": "markdown",
   "metadata": {},
   "source": [
    "## s.count(p) - сколько раз строка p встречатеся в строке s"
   ]
  },
  {
   "cell_type": "code",
   "execution_count": 22,
   "metadata": {},
   "outputs": [
    {
     "name": "stdout",
     "output_type": "stream",
     "text": [
      "1\n"
     ]
    }
   ],
   "source": [
    "str = 'dmitry'\n",
    "print(str.count('mi'))"
   ]
  },
  {
   "cell_type": "markdown",
   "metadata": {},
   "source": [
    "# методы строк\n",
    "s.upper() - в строке s сделать все символы заглавными\n",
    "s.lower() - в строке s сделать все буквы строчными\n",
    "s.count(p) - сколько раз строка p встречатеся в строке s\n",
    "s.find(p) - возвращает индекс первого вхождения строки p в строку s(вернет -1 если вхожения небыло)\n",
    "s.replace(p, t) - заменяет в строке s все подстроки p на t"
   ]
  },
  {
   "cell_type": "markdown",
   "metadata": {},
   "source": [
    "GC-состав является важной характеристикой геномных последовательностей и определяется как процентное соотношение суммы всех гуанинов и цитозинов к общему числу нуклеиновых оснований в геномной последовательности.\n",
    "\n",
    "Напишите программу, которая вычисляет процентное содержание символов G (гуанин) и C (цитозин) в введенной строке (программа не должна зависеть от регистра вводимых символов).\n",
    "\n",
    "Например, в строке \"acggtgttat\" процентное содержание символов G и C равно \\dfrac4{10} \\cdot 100 = 40.0 \n",
    "10\n",
    "4\n",
    "​\t\n",
    " ⋅100=40.0, где 4 -- это количество символов G и C,  а 10 -- это длина строки."
   ]
  },
  {
   "cell_type": "code",
   "execution_count": 26,
   "metadata": {},
   "outputs": [
    {
     "name": "stdout",
     "output_type": "stream",
     "text": [
      "gjfgndbzxvjhk\n",
      "0.15384615384615385\n"
     ]
    }
   ],
   "source": [
    "s = input()\n",
    "sum = s.lower().count('g') + s.lower().count('c')\n",
    "print(sum / len(s) * 100)"
   ]
  },
  {
   "cell_type": "markdown",
   "metadata": {},
   "source": [
    "# Взять диапозон символов из строки Slicing\n",
    "str = 'dmitry'\n",
    "str[1] = 'm'\n",
    "str[1:3] = 'mit'\n",
    "str[:2] = 'dmi'\n",
    "str[4:] = 'ry'\n",
    "str[-3:] = 'try'\n",
    "str[1:-1] = 'mitr'\n",
    "str[1:-1:2] = 'mt'\n",
    "str[::-1] = 'yrtimd'"
   ]
  },
  {
   "cell_type": "code",
   "execution_count": 27,
   "metadata": {},
   "outputs": [
    {
     "name": "stdout",
     "output_type": "stream",
     "text": [
      "def abcdef defghijk kjihgfedcba ijk abcde kigec "
     ]
    }
   ],
   "source": [
    "s = 'abcdefghijk'\n",
    "print(s[3:6], end = ' ')\n",
    "print(s[:6], end = ' ')\n",
    "print(s[3:], end = ' ')\n",
    "print(s[::-1], end = ' ')\n",
    "print(s[-3:], end = ' ')\n",
    "print(s[:-6], end = ' ')\n",
    "print(s[-1:-10:-2], end = ' ')"
   ]
  },
  {
   "cell_type": "markdown",
   "metadata": {},
   "source": [
    "Узнав, что ДНК не является случайной строкой, только что поступившие в Институт биоинформатики студенты группы информатиков предложили использовать алгоритм сжатия, который сжимает повторяющиеся символы в строке.\n",
    "\n",
    "Кодирование осуществляется следующим образом:\n",
    "s = 'aaaabbсaa' преобразуется в 'a4b2с1a2', то есть группы одинаковых символов исходной строки заменяются на этот символ и количество его повторений в этой позиции строки.\n",
    "\n",
    "Напишите программу, которая считывает строку, кодирует её предложенным алгоритмом и выводит закодированную последовательность на стандартный вывод. Кодирование должно учитывать регистр символов."
   ]
  },
  {
   "cell_type": "code",
   "execution_count": 57,
   "metadata": {},
   "outputs": [
    {
     "name": "stdout",
     "output_type": "stream",
     "text": [
      "sssdtttttrre\n",
      "s3d1t5r2e1\n"
     ]
    }
   ],
   "source": [
    "a = input()\n",
    "s = a[0]\n",
    "n = 1\n",
    "for i in a[1:]:\n",
    "    if s[-1] != i:\n",
    "        print(s[-1], end = '')\n",
    "        print(n, end = '')\n",
    "        s = s + i\n",
    "        n = 1\n",
    "    else:\n",
    "        n += 1\n",
    "print(s[-1], end = '')\n",
    "print(n)"
   ]
  },
  {
   "cell_type": "code",
   "execution_count": null,
   "metadata": {},
   "outputs": [],
   "source": []
  }
 ],
 "metadata": {
  "kernelspec": {
   "display_name": "Python 3",
   "language": "python",
   "name": "python3"
  },
  "language_info": {
   "codemirror_mode": {
    "name": "ipython",
    "version": 3
   },
   "file_extension": ".py",
   "mimetype": "text/x-python",
   "name": "python",
   "nbconvert_exporter": "python",
   "pygments_lexer": "ipython3",
   "version": "3.8.2"
  }
 },
 "nbformat": 4,
 "nbformat_minor": 4
}
